{
 "cells": [
  {
   "cell_type": "markdown",
   "metadata": {},
   "source": [
    "<h1>Capstone Project: Battle of The Neighborhoods</h1>"
   ]
  },
  {
   "cell_type": "markdown",
   "metadata": {},
   "source": [
    "<h3>A description of the problem and a discussion of the background</h3>\n",
    "<b>Following the covid19 pandemic outbreak, the Tokyo 2020 Olympic and Paralympics games were postponed by 12 months, and it has not been clear whether the games would continue this year, given that the pandemic is not yet over. Following this uncertainty, a decision has been made that the games will go ahead in Tokyo this year with Olympics expected to start on July 23, 2021, and end on August 8, 2021, while the Paralympics will start on the August 24,2021 and end on September 5, 2021[1].\n",
    "However, these games will take place under very different and strict restrictions as the virus continues to spread and mutate into different variants with slow access to the vaccines. In fact, a decision has been made that foreign spectators will not be allowed into Japan to watch the games. This means that the demand for accommodation and other related facilities has faded. Despite this, the organizing committee has decided that 10, 000 local spectators will be allowed per venue provided that this number is less 50% of the venue capacity. There will still be restrictions put in place in terms of movement restrictions and interactions. This means that the need for accommodation in Tokyo from among the more than 127 million people [2] staying in Japan will still be high and the high demand more specially for hotels closer to the games’ venues especially the Tokyo Olympic stadium which is the main venue. \n",
    "\n",
    "The problem, therefore, is to help local travelers with hotel information such as locations, reviews, and ratings so that they can book hotels that are conveniently located for their purpose. </b>\n",
    "\n",
    "References\n",
    "\n",
    "[1]     https://olympics,com/tokyo-2020/en/ \n",
    "[2]     https://www.worldometers.info/world-population/japan-population/ \n"
   ]
  },
  {
   "cell_type": "markdown",
   "metadata": {},
   "source": [
    "<h3>A description of the data and how it will be used to solve the problem</h3>\n",
    "<b>For this exercise, Tokyo hotels listing data from Inside Airbnb[1] will be used to find and explore accommodation in Tokyo. These data list the hotel names and IDs, neighborhood, latitude and longitude, room types, price, reviews, and availability. </b>\n",
    "\n",
    "Source:\n",
    "[1]     http://www.insideairbnb.com/get-the-data-html \n"
   ]
  },
  {
   "cell_type": "code",
   "execution_count": null,
   "metadata": {},
   "outputs": [],
   "source": []
  }
 ],
 "metadata": {
  "kernelspec": {
   "display_name": "Python 3",
   "language": "python",
   "name": "python3"
  },
  "language_info": {
   "codemirror_mode": {
    "name": "ipython",
    "version": 3
   },
   "file_extension": ".py",
   "mimetype": "text/x-python",
   "name": "python",
   "nbconvert_exporter": "python",
   "pygments_lexer": "ipython3",
   "version": "3.8.5"
  }
 },
 "nbformat": 4,
 "nbformat_minor": 4
}
